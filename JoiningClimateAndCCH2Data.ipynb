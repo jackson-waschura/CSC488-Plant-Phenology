{
 "cells": [
  {
   "cell_type": "markdown",
   "metadata": {},
   "source": [
    "## Joining PRISM Climate Data and CCH2 Specimens\n",
    "\n",
    "Warning: This notebook requires 32Gb of RAM in order to run. Anything less will cause the kernel to die while trying to append the climate columns."
   ]
  },
  {
   "cell_type": "code",
   "execution_count": 1,
   "metadata": {},
   "outputs": [],
   "source": [
    "import numpy as np\n",
    "import pandas as pd"
   ]
  },
  {
   "cell_type": "code",
   "execution_count": 2,
   "metadata": {},
   "outputs": [],
   "source": [
    "import gc"
   ]
  },
  {
   "cell_type": "code",
   "execution_count": 3,
   "metadata": {},
   "outputs": [],
   "source": [
    "def read_prism_hdr(hdr_path):\n",
    "    \"\"\"Read an ESRI BIL HDR file\"\"\"\n",
    "    with open(hdr_path, 'r') as input_f:\n",
    "        header_list = input_f.readlines()\n",
    "    output = dict(item.strip().split() for item in header_list)\n",
    "    return output\n",
    "\n",
    "def read_prism_bil(bil_path):\n",
    "    \"\"\"Read an array from ESRI BIL raster file\"\"\"\n",
    "    hdr_dict = read_prism_hdr(bil_path.replace('.bil', '.hdr'))\n",
    "    # For now, only use NROWS, NCOLS, and NODATA\n",
    "    # Eventually use NBANDS, BYTEORDER, LAYOUT, PIXELTYPE, NBITS\n",
    "    prism_array = np.fromfile(bil_path, dtype=np.float32)\n",
    "    prism_array = prism_array.reshape(\n",
    "        int(hdr_dict['NROWS']), int(hdr_dict['NCOLS']))\n",
    "    prism_array[prism_array == float(hdr_dict['NODATA'])] = np.nan\n",
    "    return prism_array, hdr_dict\n",
    "\n",
    "def get_prism_data(attribute):\n",
    "    years = range(1895, 2020)\n",
    "    months = range(1, 13)\n",
    "    arrays = []\n",
    "    headers = {}\n",
    "    for yr in years:\n",
    "        annual_arrays = []\n",
    "        for month in months:\n",
    "            ver = 2 if (yr < 1981 and attribute == \"ppt\") else 3\n",
    "            prism_path = 'prism_climate_data/{}/{}/PRISM_{}_stable_4kmM{}_{}{:02d}_bil.bil'.format(attribute,yr,attribute,ver,yr,month)\n",
    "            prism_array, prism_header = read_prism_bil(prism_path)\n",
    "            headers[(yr, month)] = prism_header\n",
    "            annual_arrays.append(prism_array)\n",
    "        arrays.append(np.stack(annual_arrays, axis=0))\n",
    "    \n",
    "    # 2020 is partial, so we need to append some extra null arrays\n",
    "    annual_arrays = []\n",
    "    for month in months:\n",
    "        if month < 5:\n",
    "            prism_path = 'prism_climate_data/{}/{}/PRISM_{}_stable_4kmM3_{}{:02d}_bil.bil'.format(attribute,yr,attribute,yr,month)\n",
    "            prism_array, prism_header = read_prism_bil(prism_path)\n",
    "            headers[(yr, month)] = prism_header\n",
    "            annual_arrays.append(prism_array)\n",
    "        else:\n",
    "            arr = np.zeros((621,1405))\n",
    "            arr[:,:] = np.nan\n",
    "            annual_arrays.append(arr)\n",
    "    arrays.append(np.stack(annual_arrays, axis=0))\n",
    "    \n",
    "    prism_array = np.stack(arrays, axis=0)\n",
    "    \n",
    "    # Check to make sure the headers are the same for each year\n",
    "    for k, h in headers.items():\n",
    "        for hk, hv in prism_header.items():\n",
    "            if hk in [\"ULXMAP\", \"ULYMAP\", \"XDIM\", \"YDIM\", \"NODATA\"]:\n",
    "                # Check the approximate equivalence of float values\n",
    "                if round(float(h[hk]), 5) != round(float(hv),5):\n",
    "                    raise ValueError(\"{} differs from last header ({} being {} vs {})\".format(k, hk, h[hk], hv))\n",
    "            else:\n",
    "                # Check exact equivalence of ints and strings\n",
    "                if h[hk] != hv:\n",
    "                    raise ValueError(\"{} differs from last header ({} being {} vs {})\".format(k, hk, h[hk], hv))\n",
    "    \n",
    "    return prism_array, prism_header\n",
    "\n",
    "def get_prism_coords(coords, header):\n",
    "    result = coords.copy()\n",
    "    result[0] -= (float(header[\"ULXMAP\"]) - float(header[\"XDIM\"])/2.0)\n",
    "    result[0] /= float(header[\"XDIM\"])\n",
    "    result[1] -= (float(header[\"ULYMAP\"]) + float(header[\"YDIM\"])/2.0)\n",
    "    result[1] /= -float(header[\"YDIM\"])\n",
    "    return result\n",
    "\n",
    "def lookup_climate_data(records, # Pandas Dataframe\n",
    "                        prism_array, # Numpy Ndarray of shape (years, months, lat_bins, lon_bins)\n",
    "                        prism_header, # Header for prism data\n",
    "                        col_name, # Name of data being computed\n",
    "                        month_override=None, # Override month indexing to take a single value\n",
    "                        normalized=True): # If true, subtract the mean over the observed period (1895-2020)\n",
    "    print(\"Calculating {}...\".format(col_name))\n",
    "    \n",
    "    # Drop rows with any null indexing variables\n",
    "    initial_len = len(records)\n",
    "    records = records.dropna(subset=[\"year\", \"decimalLongitude\", \"decimalLatitude\"])\n",
    "    \n",
    "    # Drop rows that are out of bounds on any axis\n",
    "    minLon = float(prism_header[\"ULXMAP\"]) - float(prism_header[\"XDIM\"])/2.0\n",
    "    maxLon = minLon + prism_array.shape[3] * float(prism_header[\"XDIM\"])\n",
    "    maxLat = float(prism_header[\"ULYMAP\"]) + float(prism_header[\"YDIM\"])/2.0\n",
    "    minLat = maxLat - prism_array.shape[2] * float(prism_header[\"YDIM\"])\n",
    "    records = records.loc[  (records[\"year\"] >= 1895)\n",
    "                          & (records[\"year\"] <= 2020)\n",
    "                          & (records[\"decimalLatitude\"] > minLat)\n",
    "                          & (records[\"decimalLatitude\"] < maxLat)\n",
    "                          & (records[\"decimalLongitude\"] > minLon)\n",
    "                          & (records[\"decimalLongitude\"] < maxLon)]\n",
    "    \n",
    "    # Handle month separately as it is sometimes uneccesary\n",
    "    if month_override is None:\n",
    "        records = records.dropna(subset=[\"month\"])\n",
    "        records = records.loc[(records[\"month\"] >= 1) & (records[\"month\"] <= 12)]\n",
    "    \n",
    "    final_len = len(records)\n",
    "    print(\"{}/{} records do not have good year/month/lat/lon\".format(initial_len - final_len,\n",
    "                                                                     initial_len))\n",
    "    coords = get_prism_coords(records[[\"decimalLongitude\", \"decimalLatitude\"]].values.T,\n",
    "                              prism_header).astype(int)\n",
    "    if month_override is None:\n",
    "        # Index by the month in which each sample was collected\n",
    "        month_index = records[\"month\"].values\n",
    "    else:\n",
    "        # Index by a specified month\n",
    "        month_index = month_override\n",
    "    \n",
    "    vals = prism_array[records[\"year\"].values-1895, # Year indexed from 1895\n",
    "                       month_index-1, # Month indexed from January\n",
    "                       coords[1], # Transformed latitude\n",
    "                       coords[0]] # Transformed longitude\n",
    "    \n",
    "    if normalized:\n",
    "        # Compute the mean over all years and subtract from vals\n",
    "        vals -= np.nanmean(prism_array,axis=0)[month_index-1,coords[1],coords[0]]\n",
    "    \n",
    "    return pd.Series(vals.copy(), index=records.index, name=col_name)\n",
    "\n",
    "def add_climate_columns(dataframe, attribute):\n",
    "    final_climate_columns = []\n",
    "    prism_array, prism_header = get_prism_data(attribute)\n",
    "    \n",
    "    # At collection time\n",
    "    col_name = \"{}_at_collection\".format(attribute)\n",
    "    final_climate_columns.append(col_name)\n",
    "    new_col = lookup_climate_data(dataframe, prism_array, prism_header, col_name)\n",
    "    dataframe[new_col.name] = np.nan\n",
    "    dataframe.loc[new_col.index, new_col.name] = new_col\n",
    "    # Winter (January)\n",
    "    col_name = \"{}_winter\".format(attribute)\n",
    "    final_climate_columns.append(col_name)\n",
    "    new_col = lookup_climate_data(dataframe, prism_array, prism_header, col_name, month_override=1)\n",
    "    dataframe[new_col.name] = np.nan\n",
    "    dataframe.loc[new_col.index, new_col.name] = new_col\n",
    "    # Spring (April)\n",
    "    col_name = \"{}_spring\".format(attribute)\n",
    "    final_climate_columns.append(col_name)\n",
    "    new_col = lookup_climate_data(dataframe, prism_array, prism_header, col_name, month_override=4)\n",
    "    dataframe[new_col.name] = np.nan\n",
    "    dataframe.loc[new_col.index, new_col.name] = new_col\n",
    "    # Summer (July)\n",
    "    col_name = \"{}_summer\".format(attribute)\n",
    "    final_climate_columns.append(col_name)\n",
    "    new_col = lookup_climate_data(dataframe, prism_array, prism_header, col_name, month_override=7)\n",
    "    dataframe[new_col.name] = np.nan\n",
    "    dataframe.loc[new_col.index, new_col.name] = new_col\n",
    "    # Fall (October)\n",
    "    col_name = \"{}_fall\".format(attribute)\n",
    "    final_climate_columns.append(col_name)\n",
    "    new_col = lookup_climate_data(dataframe, prism_array, prism_header, col_name, month_override=10)\n",
    "    dataframe[new_col.name] = np.nan\n",
    "    dataframe.loc[new_col.index, new_col.name] = new_col\n",
    "    \n",
    "    return dataframe"
   ]
  },
  {
   "cell_type": "code",
   "execution_count": 4,
   "metadata": {},
   "outputs": [
    {
     "name": "stderr",
     "output_type": "stream",
     "text": [
      "/home/jackson/.local/lib/python3.8/site-packages/IPython/core/interactiveshell.py:3145: DtypeWarning: Columns (3,26,28,29,42,44,50,56,65,67,73,75) have mixed types.Specify dtype option on import or set low_memory=False.\n",
      "  has_raised = await self.run_ast_nodes(code_ast.body, cell_name,\n"
     ]
    }
   ],
   "source": [
    "merged_dir = \"continental_US_CCH2\"\n",
    "cch2 = pd.read_csv(merged_dir + \"/full_dataset.csv\")\n",
    "cch2[\"year\"] = cch2[\"year\"].astype(int)\n",
    "cch2[\"month\"] = cch2[\"month\"].astype(int)"
   ]
  },
  {
   "cell_type": "code",
   "execution_count": 5,
   "metadata": {},
   "outputs": [
    {
     "name": "stdout",
     "output_type": "stream",
     "text": [
      "Calculating ppt_at_collection...\n",
      "865/1513533 records do not have good year/month/lat/lon\n"
     ]
    },
    {
     "name": "stderr",
     "output_type": "stream",
     "text": [
      "<ipython-input-3-35a524277b9c>:120: RuntimeWarning: Mean of empty slice\n",
      "  vals -= np.nanmean(prism_array,axis=0)[month_index-1,coords[1],coords[0]]\n"
     ]
    },
    {
     "name": "stdout",
     "output_type": "stream",
     "text": [
      "Calculating ppt_winter...\n",
      "865/1513533 records do not have good year/month/lat/lon\n"
     ]
    },
    {
     "name": "stderr",
     "output_type": "stream",
     "text": [
      "<ipython-input-3-35a524277b9c>:120: RuntimeWarning: Mean of empty slice\n",
      "  vals -= np.nanmean(prism_array,axis=0)[month_index-1,coords[1],coords[0]]\n"
     ]
    },
    {
     "name": "stdout",
     "output_type": "stream",
     "text": [
      "Calculating ppt_spring...\n",
      "865/1513533 records do not have good year/month/lat/lon\n"
     ]
    },
    {
     "name": "stderr",
     "output_type": "stream",
     "text": [
      "<ipython-input-3-35a524277b9c>:120: RuntimeWarning: Mean of empty slice\n",
      "  vals -= np.nanmean(prism_array,axis=0)[month_index-1,coords[1],coords[0]]\n"
     ]
    },
    {
     "name": "stdout",
     "output_type": "stream",
     "text": [
      "Calculating ppt_summer...\n",
      "865/1513533 records do not have good year/month/lat/lon\n"
     ]
    },
    {
     "name": "stderr",
     "output_type": "stream",
     "text": [
      "<ipython-input-3-35a524277b9c>:120: RuntimeWarning: Mean of empty slice\n",
      "  vals -= np.nanmean(prism_array,axis=0)[month_index-1,coords[1],coords[0]]\n"
     ]
    },
    {
     "name": "stdout",
     "output_type": "stream",
     "text": [
      "Calculating ppt_fall...\n",
      "865/1513533 records do not have good year/month/lat/lon\n"
     ]
    },
    {
     "name": "stderr",
     "output_type": "stream",
     "text": [
      "<ipython-input-3-35a524277b9c>:120: RuntimeWarning: Mean of empty slice\n",
      "  vals -= np.nanmean(prism_array,axis=0)[month_index-1,coords[1],coords[0]]\n"
     ]
    },
    {
     "data": {
      "text/plain": [
       "0"
      ]
     },
     "execution_count": 5,
     "metadata": {},
     "output_type": "execute_result"
    }
   ],
   "source": [
    "cch2 = add_climate_columns(cch2, \"ppt\")\n",
    "gc.collect()"
   ]
  },
  {
   "cell_type": "code",
   "execution_count": 6,
   "metadata": {},
   "outputs": [
    {
     "name": "stdout",
     "output_type": "stream",
     "text": [
      "0.06220280628172627\n"
     ]
    },
    {
     "data": {
      "text/plain": [
       "<AxesSubplot:ylabel='Frequency'>"
      ]
     },
     "execution_count": 6,
     "metadata": {},
     "output_type": "execute_result"
    },
    {
     "data": {
      "image/png": "[encoded data removed]",
      "text/plain": [
       "<Figure size 432x288 with 1 Axes>"
      ]
     },
     "metadata": {
      "needs_background": "light"
     },
     "output_type": "display_data"
    }
   ],
   "source": [
    "print(cch2[\"ppt_at_collection\"].isna().sum()/len(cch2))\n",
    "cch2[\"ppt_at_collection\"].plot.hist(bins=101)"
   ]
  },
  {
   "cell_type": "code",
   "execution_count": 7,
   "metadata": {},
   "outputs": [
    {
     "name": "stdout",
     "output_type": "stream",
     "text": [
      "Calculating tmin_at_collection...\n",
      "865/1513533 records do not have good year/month/lat/lon\n"
     ]
    },
    {
     "name": "stderr",
     "output_type": "stream",
     "text": [
      "<ipython-input-3-35a524277b9c>:120: RuntimeWarning: Mean of empty slice\n",
      "  vals -= np.nanmean(prism_array,axis=0)[month_index-1,coords[1],coords[0]]\n"
     ]
    },
    {
     "name": "stdout",
     "output_type": "stream",
     "text": [
      "Calculating tmin_winter...\n",
      "865/1513533 records do not have good year/month/lat/lon\n"
     ]
    },
    {
     "name": "stderr",
     "output_type": "stream",
     "text": [
      "<ipython-input-3-35a524277b9c>:120: RuntimeWarning: Mean of empty slice\n",
      "  vals -= np.nanmean(prism_array,axis=0)[month_index-1,coords[1],coords[0]]\n"
     ]
    },
    {
     "name": "stdout",
     "output_type": "stream",
     "text": [
      "Calculating tmin_spring...\n",
      "865/1513533 records do not have good year/month/lat/lon\n"
     ]
    },
    {
     "name": "stderr",
     "output_type": "stream",
     "text": [
      "<ipython-input-3-35a524277b9c>:120: RuntimeWarning: Mean of empty slice\n",
      "  vals -= np.nanmean(prism_array,axis=0)[month_index-1,coords[1],coords[0]]\n"
     ]
    },
    {
     "name": "stdout",
     "output_type": "stream",
     "text": [
      "Calculating tmin_summer...\n",
      "865/1513533 records do not have good year/month/lat/lon\n"
     ]
    },
    {
     "name": "stderr",
     "output_type": "stream",
     "text": [
      "<ipython-input-3-35a524277b9c>:120: RuntimeWarning: Mean of empty slice\n",
      "  vals -= np.nanmean(prism_array,axis=0)[month_index-1,coords[1],coords[0]]\n"
     ]
    },
    {
     "name": "stdout",
     "output_type": "stream",
     "text": [
      "Calculating tmin_fall...\n",
      "865/1513533 records do not have good year/month/lat/lon\n"
     ]
    },
    {
     "name": "stderr",
     "output_type": "stream",
     "text": [
      "<ipython-input-3-35a524277b9c>:120: RuntimeWarning: Mean of empty slice\n",
      "  vals -= np.nanmean(prism_array,axis=0)[month_index-1,coords[1],coords[0]]\n"
     ]
    },
    {
     "data": {
      "text/plain": [
       "12"
      ]
     },
     "execution_count": 7,
     "metadata": {},
     "output_type": "execute_result"
    }
   ],
   "source": [
    "cch2 = add_climate_columns(cch2, \"tmin\")\n",
    "gc.collect()"
   ]
  },
  {
   "cell_type": "code",
   "execution_count": 8,
   "metadata": {},
   "outputs": [
    {
     "name": "stdout",
     "output_type": "stream",
     "text": [
      "0.06220280628172627\n"
     ]
    },
    {
     "data": {
      "text/plain": [
       "<AxesSubplot:ylabel='Frequency'>"
      ]
     },
     "execution_count": 8,
     "metadata": {},
     "output_type": "execute_result"
    },
    {
     "data": {
      "image/png": "[encoded data removed]",
      "text/plain": [
       "<Figure size 432x288 with 1 Axes>"
      ]
     },
     "metadata": {
      "needs_background": "light"
     },
     "output_type": "display_data"
    }
   ],
   "source": [
    "print(cch2[\"tmin_at_collection\"].isna().sum()/len(cch2))\n",
    "cch2[\"tmin_at_collection\"].plot.hist(bins=101)"
   ]
  },
  {
   "cell_type": "code",
   "execution_count": 9,
   "metadata": {},
   "outputs": [
    {
     "name": "stdout",
     "output_type": "stream",
     "text": [
      "Calculating tmean_at_collection...\n",
      "865/1513533 records do not have good year/month/lat/lon\n"
     ]
    },
    {
     "name": "stderr",
     "output_type": "stream",
     "text": [
      "<ipython-input-3-35a524277b9c>:120: RuntimeWarning: Mean of empty slice\n",
      "  vals -= np.nanmean(prism_array,axis=0)[month_index-1,coords[1],coords[0]]\n"
     ]
    },
    {
     "name": "stdout",
     "output_type": "stream",
     "text": [
      "Calculating tmean_winter...\n",
      "865/1513533 records do not have good year/month/lat/lon\n"
     ]
    },
    {
     "name": "stderr",
     "output_type": "stream",
     "text": [
      "<ipython-input-3-35a524277b9c>:120: RuntimeWarning: Mean of empty slice\n",
      "  vals -= np.nanmean(prism_array,axis=0)[month_index-1,coords[1],coords[0]]\n"
     ]
    },
    {
     "name": "stdout",
     "output_type": "stream",
     "text": [
      "Calculating tmean_spring...\n",
      "865/1513533 records do not have good year/month/lat/lon\n"
     ]
    },
    {
     "name": "stderr",
     "output_type": "stream",
     "text": [
      "<ipython-input-3-35a524277b9c>:120: RuntimeWarning: Mean of empty slice\n",
      "  vals -= np.nanmean(prism_array,axis=0)[month_index-1,coords[1],coords[0]]\n"
     ]
    },
    {
     "name": "stdout",
     "output_type": "stream",
     "text": [
      "Calculating tmean_summer...\n",
      "865/1513533 records do not have good year/month/lat/lon\n"
     ]
    },
    {
     "name": "stderr",
     "output_type": "stream",
     "text": [
      "<ipython-input-3-35a524277b9c>:120: RuntimeWarning: Mean of empty slice\n",
      "  vals -= np.nanmean(prism_array,axis=0)[month_index-1,coords[1],coords[0]]\n"
     ]
    },
    {
     "name": "stdout",
     "output_type": "stream",
     "text": [
      "Calculating tmean_fall...\n",
      "865/1513533 records do not have good year/month/lat/lon\n"
     ]
    },
    {
     "name": "stderr",
     "output_type": "stream",
     "text": [
      "<ipython-input-3-35a524277b9c>:120: RuntimeWarning: Mean of empty slice\n",
      "  vals -= np.nanmean(prism_array,axis=0)[month_index-1,coords[1],coords[0]]\n"
     ]
    },
    {
     "data": {
      "text/plain": [
       "12"
      ]
     },
     "execution_count": 9,
     "metadata": {},
     "output_type": "execute_result"
    }
   ],
   "source": [
    "cch2 = add_climate_columns(cch2, \"tmean\")\n",
    "gc.collect()"
   ]
  },
  {
   "cell_type": "code",
   "execution_count": 10,
   "metadata": {},
   "outputs": [
    {
     "name": "stdout",
     "output_type": "stream",
     "text": [
      "0.06220280628172627\n"
     ]
    },
    {
     "data": {
      "text/plain": [
       "<AxesSubplot:ylabel='Frequency'>"
      ]
     },
     "execution_count": 10,
     "metadata": {},
     "output_type": "execute_result"
    },
    {
     "data": {
      "image/png": "[encoded data removed]",
      "text/plain": [
       "<Figure size 432x288 with 1 Axes>"
      ]
     },
     "metadata": {
      "needs_background": "light"
     },
     "output_type": "display_data"
    }
   ],
   "source": [
    "print(cch2[\"tmean_at_collection\"].isna().sum()/len(cch2))\n",
    "cch2[\"tmean_at_collection\"].plot.hist(bins=101)"
   ]
  },
  {
   "cell_type": "code",
   "execution_count": 11,
   "metadata": {},
   "outputs": [
    {
     "name": "stdout",
     "output_type": "stream",
     "text": [
      "Calculating tmax_at_collection...\n",
      "865/1513533 records do not have good year/month/lat/lon\n"
     ]
    },
    {
     "name": "stderr",
     "output_type": "stream",
     "text": [
      "<ipython-input-3-35a524277b9c>:120: RuntimeWarning: Mean of empty slice\n",
      "  vals -= np.nanmean(prism_array,axis=0)[month_index-1,coords[1],coords[0]]\n"
     ]
    },
    {
     "name": "stdout",
     "output_type": "stream",
     "text": [
      "Calculating tmax_winter...\n",
      "865/1513533 records do not have good year/month/lat/lon\n"
     ]
    },
    {
     "name": "stderr",
     "output_type": "stream",
     "text": [
      "<ipython-input-3-35a524277b9c>:120: RuntimeWarning: Mean of empty slice\n",
      "  vals -= np.nanmean(prism_array,axis=0)[month_index-1,coords[1],coords[0]]\n"
     ]
    },
    {
     "name": "stdout",
     "output_type": "stream",
     "text": [
      "Calculating tmax_spring...\n",
      "865/1513533 records do not have good year/month/lat/lon\n"
     ]
    },
    {
     "name": "stderr",
     "output_type": "stream",
     "text": [
      "<ipython-input-3-35a524277b9c>:120: RuntimeWarning: Mean of empty slice\n",
      "  vals -= np.nanmean(prism_array,axis=0)[month_index-1,coords[1],coords[0]]\n"
     ]
    },
    {
     "name": "stdout",
     "output_type": "stream",
     "text": [
      "Calculating tmax_summer...\n",
      "865/1513533 records do not have good year/month/lat/lon\n"
     ]
    },
    {
     "name": "stderr",
     "output_type": "stream",
     "text": [
      "<ipython-input-3-35a524277b9c>:120: RuntimeWarning: Mean of empty slice\n",
      "  vals -= np.nanmean(prism_array,axis=0)[month_index-1,coords[1],coords[0]]\n"
     ]
    },
    {
     "name": "stdout",
     "output_type": "stream",
     "text": [
      "Calculating tmax_fall...\n",
      "865/1513533 records do not have good year/month/lat/lon\n"
     ]
    },
    {
     "name": "stderr",
     "output_type": "stream",
     "text": [
      "<ipython-input-3-35a524277b9c>:120: RuntimeWarning: Mean of empty slice\n",
      "  vals -= np.nanmean(prism_array,axis=0)[month_index-1,coords[1],coords[0]]\n"
     ]
    },
    {
     "data": {
      "text/plain": [
       "12"
      ]
     },
     "execution_count": 11,
     "metadata": {},
     "output_type": "execute_result"
    }
   ],
   "source": [
    "cch2 = add_climate_columns(cch2, \"tmax\")\n",
    "gc.collect()"
   ]
  },
  {
   "cell_type": "code",
   "execution_count": 12,
   "metadata": {},
   "outputs": [
    {
     "name": "stdout",
     "output_type": "stream",
     "text": [
      "0.06220280628172627\n"
     ]
    },
    {
     "data": {
      "text/plain": [
       "<AxesSubplot:ylabel='Frequency'>"
      ]
     },
     "execution_count": 12,
     "metadata": {},
     "output_type": "execute_result"
    },
    {
     "data": {
      "image/png": "[encoded data removed]",
      "text/plain": [
       "<Figure size 432x288 with 1 Axes>"
      ]
     },
     "metadata": {
      "needs_background": "light"
     },
     "output_type": "display_data"
    }
   ],
   "source": [
    "print(cch2[\"tmax_at_collection\"].isna().sum()/len(cch2))\n",
    "cch2[\"tmax_at_collection\"].plot.hist(bins=101)"
   ]
  },
  {
   "cell_type": "markdown",
   "metadata": {},
   "source": [
    "## Save the Resulting Dataset"
   ]
  },
  {
   "cell_type": "code",
   "execution_count": 13,
   "metadata": {},
   "outputs": [],
   "source": [
    "cch2.to_csv(merged_dir + \"/full_dataset.csv\", index=False)"
   ]
  },
  {
   "cell_type": "code",
   "execution_count": null,
   "metadata": {},
   "outputs": [],
   "source": []
  }
 ],
 "metadata": {
  "kernelspec": {
   "display_name": "Python 3",
   "language": "python",
   "name": "python3"
  },
  "language_info": {
   "codemirror_mode": {
    "name": "ipython",
    "version": 3
   },
   "file_extension": ".py",
   "mimetype": "text/x-python",
   "name": "python",
   "nbconvert_exporter": "python",
   "pygments_lexer": "ipython3",
   "version": "3.8.5"
  }
 },
 "nbformat": 4,
 "nbformat_minor": 4
}
