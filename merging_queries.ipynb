{
 "cells": [
  {
   "cell_type": "markdown",
   "metadata": {},
   "source": [
    "## Load in the distinct queries and merge into a single dataframe"
   ]
  },
  {
   "cell_type": "code",
   "execution_count": 1,
   "metadata": {},
   "outputs": [],
   "source": [
    "import pandas as pd\n",
    "import numpy as np\n",
    "import matplotlib.pyplot as plt\n",
    "import os\n",
    "from tqdm import tqdm"
   ]
  },
  {
   "cell_type": "code",
   "execution_count": 2,
   "metadata": {},
   "outputs": [
    {
     "name": "stdout",
     "output_type": "stream",
     "text": [
      "Query Directories: ['query2', 'query1', 'query4', 'query3']\n"
     ]
    }
   ],
   "source": [
    "csv_names = [\"images.csv\", \"measurementOrFact.csv\", \"occurrences.csv\"]\n",
    "query_dirs = [x for x in os.listdir() if (x.startswith(\"query\") and os.path.isdir(x))]\n",
    "merged_dir = \"continental_US_CCH2_temp\"\n",
    "os.makedirs(merged_dir)\n",
    "print(\"Query Directories:\", query_dirs)"
   ]
  },
  {
   "cell_type": "code",
   "execution_count": 3,
   "metadata": {},
   "outputs": [
    {
     "name": "stderr",
     "output_type": "stream",
     "text": [
      "/home/jackson/.local/lib/python3.8/site-packages/IPython/core/interactiveshell.py:3337: DtypeWarning: Columns (9,10) have mixed types.Specify dtype option on import or set low_memory=False.\n",
      "  if (await self.run_code(code, result,  async_=asy)):\n",
      "/home/jackson/.local/lib/python3.8/site-packages/IPython/core/interactiveshell.py:3337: DtypeWarning: Columns (8) have mixed types.Specify dtype option on import or set low_memory=False.\n",
      "  if (await self.run_code(code, result,  async_=asy)):\n",
      "/home/jackson/.local/lib/python3.8/site-packages/IPython/core/interactiveshell.py:3337: DtypeWarning: Columns (3,26,28,42,43,44,50,56,65,67,73,75) have mixed types.Specify dtype option on import or set low_memory=False.\n",
      "  if (await self.run_code(code, result,  async_=asy)):\n",
      "/home/jackson/.local/lib/python3.8/site-packages/IPython/core/interactiveshell.py:3337: DtypeWarning: Columns (65) have mixed types.Specify dtype option on import or set low_memory=False.\n",
      "  if (await self.run_code(code, result,  async_=asy)):\n",
      "/home/jackson/.local/lib/python3.8/site-packages/IPython/core/interactiveshell.py:3337: DtypeWarning: Columns (28,29,44,50,75) have mixed types.Specify dtype option on import or set low_memory=False.\n",
      "  if (await self.run_code(code, result,  async_=asy)):\n"
     ]
    }
   ],
   "source": [
    "for csv_filename in csv_names:\n",
    "    merged_dataframe = pd.concat([pd.read_csv(q_dir + \"/\" + csv_filename) for q_dir in query_dirs])\n",
    "    merged_dataframe.drop_duplicates(inplace=True)\n",
    "    merged_dataframe.to_csv(merged_dir + \"/\" + csv_filename, index=False)"
   ]
  },
  {
   "cell_type": "code",
   "execution_count": 4,
   "metadata": {},
   "outputs": [
    {
     "name": "stderr",
     "output_type": "stream",
     "text": [
      "/home/jackson/.local/lib/python3.8/site-packages/IPython/core/interactiveshell.py:3145: DtypeWarning: Columns (3,26,28,29,42,43,44,50,56,65,67,73,75) have mixed types.Specify dtype option on import or set low_memory=False.\n",
      "  has_raised = await self.run_ast_nodes(code_ast.body, cell_name,\n",
      "/home/jackson/.local/lib/python3.8/site-packages/IPython/core/interactiveshell.py:3145: DtypeWarning: Columns (8) have mixed types.Specify dtype option on import or set low_memory=False.\n",
      "  has_raised = await self.run_ast_nodes(code_ast.body, cell_name,\n"
     ]
    },
    {
     "data": {
      "text/plain": [
       "(1554807, 1679766)"
      ]
     },
     "execution_count": 4,
     "metadata": {},
     "output_type": "execute_result"
    }
   ],
   "source": [
    "cch2 = pd.read_csv(merged_dir + \"/occurrences.csv\")\n",
    "phenology = pd.read_csv(merged_dir + \"/measurementOrFact.csv\")\n",
    "len(cch2), len(phenology)"
   ]
  },
  {
   "cell_type": "markdown",
   "metadata": {},
   "source": [
    "## How to determine if a sample is flowering / fruiting?"
   ]
  },
  {
   "cell_type": "code",
   "execution_count": 5,
   "metadata": {},
   "outputs": [],
   "source": [
    "ids_with_open_flower = phenology.loc[((phenology[\"measurementType\"] == \"Open Flower\") &\n",
    "                                      (phenology[\"measurementValue\"] == \"present\")),\n",
    "                                     [\"coreid\"]]\n",
    "ids_with_open_flower[\"withOpenFlower\"] = True\n",
    "ids_with_open_flower.set_index(\"coreid\", inplace=True)\n",
    "\n",
    "ids_with_fruit = phenology.loc[((phenology[\"measurementType\"] == \"Fruit\") &\n",
    "                                (phenology[\"measurementValue\"] == \"present\")),\n",
    "                               [\"coreid\"]]\n",
    "ids_with_fruit[\"withFruit\"] = True\n",
    "ids_with_fruit.set_index(\"coreid\", inplace=True)\n",
    "\n",
    "ids_reproductive = phenology.loc[((phenology[\"measurementType\"] == \"Angiosperm Phenological Traits\") &\n",
    "                                      (phenology[\"measurementValue\"] == \"reproductive\")),\n",
    "                                     [\"coreid\"]]\n",
    "ids_not_reproductive = phenology.loc[((phenology[\"measurementType\"] == \"Angiosperm Phenological Traits\") &\n",
    "                                      (phenology[\"measurementValue\"] == \"sterile\")),\n",
    "                                     [\"coreid\"]]\n",
    "ids_reproductive[\"reproductive\"] = True\n",
    "ids_not_reproductive[\"reproductive\"] = False\n",
    "ids_reproductive.set_index(\"coreid\", inplace=True)\n",
    "ids_not_reproductive.set_index(\"coreid\", inplace=True)\n",
    "ids_reproductive = pd.concat([ids_reproductive,ids_not_reproductive])"
   ]
  },
  {
   "cell_type": "code",
   "execution_count": 6,
   "metadata": {},
   "outputs": [
    {
     "name": "stdout",
     "output_type": "stream",
     "text": [
      "CCH2 shape before joining (1554807, 84)\n",
      "CCH2 shape after joining (1554807, 87)\n"
     ]
    }
   ],
   "source": [
    "print(\"CCH2 shape before joining\", cch2.shape)\n",
    "cch2 = cch2.join(ids_with_open_flower, on=\"id\")\n",
    "cch2 = cch2.join(ids_with_fruit, on=\"id\")\n",
    "cch2 = cch2.join(ids_reproductive, on=\"id\")\n",
    "print(\"CCH2 shape after joining\", cch2.shape)"
   ]
  },
  {
   "cell_type": "code",
   "execution_count": 7,
   "metadata": {},
   "outputs": [],
   "source": [
    "indices_to_na = cch2.loc[(cch2[\"lifeStage\"].isna()\n",
    "                          & cch2[\"reproductiveCondition\"].isna()\n",
    "                          & cch2[\"withOpenFlower\"].isna()\n",
    "                          & cch2[\"withFruit\"].isna())].index\n",
    "\n",
    "cch2[\"reproductiveCondition\"] = cch2[\"reproductiveCondition\"].str.lower()\n",
    "\n",
    "flowering_terms = [str(x) for x in cch2[\"reproductiveCondition\"].unique() if \"flower\" in str(x)]\n",
    "\n",
    "fruiting_terms = [str(x) for x in cch2[\"reproductiveCondition\"].unique() if \"fruit\" in str(x)]\n",
    "\n",
    "flowering_terms += ['ffl', 'ffr']\n",
    "fruiting_terms += ['ffl', 'ffr', 'fr']\n",
    "\n",
    "cch2[\"flowering\"] = (cch2[\"lifeStage\"].str.lower().isin(flowering_terms)\n",
    "                     | cch2[\"reproductiveCondition\"].isin(flowering_terms)\n",
    "                     | cch2[\"withOpenFlower\"])\n",
    "\n",
    "cch2[\"fruiting\"] = (cch2[\"lifeStage\"].str.lower().isin(fruiting_terms)\n",
    "                    | cch2[\"reproductiveCondition\"].isin(fruiting_terms)\n",
    "                    | cch2[\"withFruit\"])\n",
    "\n",
    "cch2.loc[indices_to_na, [\"flowering\", \"fruiting\"]] = np.nan"
   ]
  },
  {
   "cell_type": "markdown",
   "metadata": {},
   "source": [
    "## Group all variants and subspecies together"
   ]
  },
  {
   "cell_type": "code",
   "execution_count": 8,
   "metadata": {},
   "outputs": [
    {
     "name": "stdout",
     "output_type": "stream",
     "text": [
      "erythranthe cordata\n"
     ]
    }
   ],
   "source": [
    "cch2[\"scientificName\"] = cch2[\"scientificName\"].str.split(\" var. \").str[0].str.split(\" subsp. \").str[0]\n",
    "\n",
    "guttata_sensu_lato_species = [\n",
    "    \"mimulus guttatus\",\n",
    "    \"erythranthe guttata\",\n",
    "    \"erythranthe micorphylla\",\n",
    "    \"e. grandis\",\n",
    "    \"e. lagunensis\",\n",
    "    \"e. unimaculata\",\n",
    "    \"e. thermalis\",\n",
    "    \"e. arenicola\",\n",
    "    \"e. marmorata\",\n",
    "    \"e. pardali\",\n",
    "    \"e. pardalis\",\n",
    "    \"e. arvensis\",\n",
    "    \"e. brachystylis\",\n",
    "    \"e. charlestonensis\",\n",
    "    \"e. cordata\"\n",
    "]\n",
    "\n",
    "for sp in guttata_sensu_lato_species:\n",
    "    if sp.startswith(\"e. \"):\n",
    "        guttata_sensu_lato_species.append(\"erythranthe\" + sp[2:])\n",
    "        \n",
    "print(guttata_sensu_lato_species[-1])"
   ]
  },
  {
   "cell_type": "code",
   "execution_count": 9,
   "metadata": {},
   "outputs": [
    {
     "name": "stdout",
     "output_type": "stream",
     "text": [
      "Number in guttata sensu lato: 2318\n"
     ]
    }
   ],
   "source": [
    "in_group = cch2[\"scientificName\"].str.lower().isin(guttata_sensu_lato_species)\n",
    "print(\"Number in guttata sensu lato:\", in_group.sum())\n",
    "cch2.loc[in_group, \"scientificName\"] = \"Guttata sensu lato\""
   ]
  },
  {
   "cell_type": "code",
   "execution_count": 10,
   "metadata": {},
   "outputs": [
    {
     "name": "stdout",
     "output_type": "stream",
     "text": [
      "Cuscuta campestris 180\n",
      "Trifolium pratense 222\n",
      "Ricinus communis 354\n",
      "Brassica rapa 479\n",
      "Raphanus sativus 769\n",
      "Nicotiana attenuata 490\n",
      "Helianthus annuus 563\n",
      "Guttata sensu lato 2318\n"
     ]
    }
   ],
   "source": [
    "species_of_interest = [\n",
    "    \"Cuscuta campestris\",\n",
    "    \"Trifolium pratense\",\n",
    "    \"Ricinus communis\",\n",
    "    \"Brassica rapa\",\n",
    "    \"Raphanus sativus\",\n",
    "    \"Nicotiana attenuata\",\n",
    "    \"Helianthus annuus\",\n",
    "    \"Guttata sensu lato\"\n",
    "]\n",
    "\n",
    "for sp in species_of_interest:\n",
    "    in_group = cch2.loc[(cch2[\"scientificName\"].str.lower() == sp.lower())]\n",
    "    print(sp, len(in_group))"
   ]
  },
  {
   "cell_type": "markdown",
   "metadata": {},
   "source": [
    "## Drop rows without \"Year\" and impute missing \"startDayOfYear\""
   ]
  },
  {
   "cell_type": "code",
   "execution_count": 11,
   "metadata": {},
   "outputs": [
    {
     "name": "stdout",
     "output_type": "stream",
     "text": [
      "Dropped 8676 rows with NA year.\n",
      "Dropped 25537 rows with year<1895.\n",
      "Dropped 7061 rows with no month or startDayOfYear.\n"
     ]
    }
   ],
   "source": [
    "prev_len = len(cch2)\n",
    "cch2.dropna(subset=[\"year\"], inplace=True)\n",
    "print(\"Dropped {} rows with NA year.\".format(prev_len-len(cch2)))\n",
    "\n",
    "cch2[\"year\"] = cch2[\"year\"].astype(int)\n",
    "\n",
    "prev_len = len(cch2)\n",
    "cch2.drop(cch2.loc[cch2[\"year\"]<1895].index, axis=0, inplace=True)\n",
    "print(\"Dropped {} rows with year<1895.\".format(prev_len-len(cch2)))\n",
    "\n",
    "prev_len = len(cch2)\n",
    "cch2.drop(cch2.loc[(cch2[\"startDayOfYear\"].isna() &\n",
    "                    (cch2[\"month\"].isna() |\n",
    "                     (cch2[\"month\"] < 1.0) |\n",
    "                     (cch2[\"month\"] > 12.0)))].index, axis=0, inplace=True)\n",
    "print(\"Dropped {} rows with no month or startDayOfYear.\".format(prev_len-len(cch2)))"
   ]
  },
  {
   "cell_type": "code",
   "execution_count": 12,
   "metadata": {},
   "outputs": [
    {
     "name": "stdout",
     "output_type": "stream",
     "text": [
      "[15.5, 45.0, 74.5, 105.0, 135.5, 166.0, 196.5, 227.5, 258.0, 288.5, 319.0, 349.5]\n"
     ]
    }
   ],
   "source": [
    "month_days = [31, 28, 31, 30, 31, 30, 31, 31, 30, 31, 30, 31]\n",
    "estimate_from_month = [sum(month_days[:i])+(month_days[i]/2.0) for i in range(len(month_days))]\n",
    "print(estimate_from_month)"
   ]
  },
  {
   "cell_type": "code",
   "execution_count": 13,
   "metadata": {
    "scrolled": true
   },
   "outputs": [
    {
     "name": "stdout",
     "output_type": "stream",
     "text": [
      "63156 rows missing startDayOfYear\n",
      "After imputation, 0 rows missing startDayOfYear\n"
     ]
    }
   ],
   "source": [
    "missing_indices = cch2.loc[cch2[\"startDayOfYear\"].isna()].index\n",
    "print(\"{} rows missing startDayOfYear\".format(len(missing_indices)))\n",
    "cch2.loc[missing_indices, \"startDayOfYear\"] = cch2.loc[missing_indices, \"month\"].apply(lambda x: estimate_from_month[int(x)-1])\n",
    "print(\"After imputation, {} rows missing startDayOfYear\".format(cch2[\"startDayOfYear\"].isna().sum()))"
   ]
  },
  {
   "cell_type": "markdown",
   "metadata": {},
   "source": [
    "## Save the full CCH2 Dataset"
   ]
  },
  {
   "cell_type": "code",
   "execution_count": 14,
   "metadata": {},
   "outputs": [],
   "source": [
    "cch2.to_csv(merged_dir + \"/full_dataset.csv\", index=False)"
   ]
  },
  {
   "cell_type": "code",
   "execution_count": null,
   "metadata": {},
   "outputs": [],
   "source": []
  }
 ],
 "metadata": {
  "kernelspec": {
   "display_name": "Python 3",
   "language": "python",
   "name": "python3"
  },
  "language_info": {
   "codemirror_mode": {
    "name": "ipython",
    "version": 3
   },
   "file_extension": ".py",
   "mimetype": "text/x-python",
   "name": "python",
   "nbconvert_exporter": "python",
   "pygments_lexer": "ipython3",
   "version": "3.8.5"
  }
 },
 "nbformat": 4,
 "nbformat_minor": 4
}
